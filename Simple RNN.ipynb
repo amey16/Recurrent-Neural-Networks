{
 "cells": [
  {
   "cell_type": "code",
   "execution_count": 3,
   "id": "91380a64",
   "metadata": {},
   "outputs": [],
   "source": [
    "import tensorflow.keras\n",
    "from tensorflow.keras.datasets import imdb\n",
    "\n",
    "from tensorflow.keras.models import Sequential\n",
    "from tensorflow.keras.layers import Embedding, SimpleRNN, Dense\n",
    "from tensorflow.keras.preprocessing import sequence\n",
    "\n",
    "from tensorflow.keras.callbacks import ModelCheckpoint\n",
    "from tensorflow.keras.callbacks import EarlyStopping\n",
    "\n",
    "import numpy as np\n",
    "import matplotlib.pyplot as plt"
   ]
  },
  {
   "cell_type": "code",
   "execution_count": 4,
   "id": "c5fb09ba",
   "metadata": {},
   "outputs": [
    {
     "name": "stdout",
     "output_type": "stream",
     "text": [
      "Downloading data from https://storage.googleapis.com/tensorflow/tf-keras-datasets/imdb.npz\n",
      "17465344/17464789 [==============================] - 2s 0us/step\n"
     ]
    },
    {
     "name": "stderr",
     "output_type": "stream",
     "text": [
      "<__array_function__ internals>:5: VisibleDeprecationWarning: Creating an ndarray from ragged nested sequences (which is a list-or-tuple of lists-or-tuples-or ndarrays with different lengths or shapes) is deprecated. If you meant to do this, you must specify 'dtype=object' when creating the ndarray\n",
      "c:\\users\\ameya gupta\\miniconda3\\lib\\site-packages\\tensorflow\\python\\keras\\datasets\\imdb.py:155: VisibleDeprecationWarning: Creating an ndarray from ragged nested sequences (which is a list-or-tuple of lists-or-tuples-or ndarrays with different lengths or shapes) is deprecated. If you meant to do this, you must specify 'dtype=object' when creating the ndarray\n",
      "  x_train, y_train = np.array(xs[:idx]), np.array(labels[:idx])\n",
      "c:\\users\\ameya gupta\\miniconda3\\lib\\site-packages\\tensorflow\\python\\keras\\datasets\\imdb.py:156: VisibleDeprecationWarning: Creating an ndarray from ragged nested sequences (which is a list-or-tuple of lists-or-tuples-or ndarrays with different lengths or shapes) is deprecated. If you meant to do this, you must specify 'dtype=object' when creating the ndarray\n",
      "  x_test, y_test = np.array(xs[idx:]), np.array(labels[idx:])\n"
     ]
    }
   ],
   "source": [
    "((X_train, y_train), (X_test, y_test)) = imdb.load_data(num_words=10000)"
   ]
  },
  {
   "cell_type": "code",
   "execution_count": 5,
   "id": "e98970b7",
   "metadata": {},
   "outputs": [
    {
     "name": "stdout",
     "output_type": "stream",
     "text": [
      "[1, 13, 244, 6, 87, 337, 7, 628, 2219, 5, 28, 285, 15, 240, 93, 23, 288, 549, 18, 1455, 673, 4, 241, 534, 3635, 8448, 20, 38, 54, 13, 258, 46, 44, 14, 13, 1241, 7258, 12, 5, 5, 51, 9, 14, 45, 6, 762, 7, 2, 1309, 328, 5, 428, 2473, 15, 26, 1292, 5, 3939, 6728, 5, 1960, 279, 13, 92, 124, 803, 52, 21, 279, 14, 9, 43, 6, 762, 7, 595, 15, 16, 2, 23, 4, 1071, 467, 4, 403, 7, 628, 2219, 8, 97, 6, 171, 3596, 99, 387, 72, 97, 12, 788, 15, 13, 161, 459, 44, 4, 3939, 1101, 173, 21, 69, 8, 401, 2, 4, 481, 88, 61, 4731, 238, 28, 32, 11, 32, 14, 9, 6, 545, 1332, 766, 5, 203, 73, 28, 43, 77, 317, 11, 4, 2, 953, 270, 17, 6, 3616, 13, 545, 386, 25, 92, 1142, 129, 278, 23, 14, 241, 46, 7, 158]\n",
      "Label 0\n"
     ]
    }
   ],
   "source": [
    "print(X_train[100])\n",
    "print(\"Label\", y_train[100])"
   ]
  },
  {
   "cell_type": "code",
   "execution_count": 6,
   "id": "af1351f7",
   "metadata": {},
   "outputs": [
    {
     "name": "stdout",
     "output_type": "stream",
     "text": [
      "Downloading data from https://storage.googleapis.com/tensorflow/tf-keras-datasets/imdb_word_index.json\n",
      "1646592/1641221 [==============================] - 0s 0us/step\n"
     ]
    }
   ],
   "source": [
    "word_2_index = imdb.get_word_index()"
   ]
  },
  {
   "cell_type": "code",
   "execution_count": 7,
   "id": "5e576f32",
   "metadata": {},
   "outputs": [],
   "source": [
    "index_2_word = {value:key for (key,value) in word_2_index.items()}"
   ]
  },
  {
   "cell_type": "code",
   "execution_count": 8,
   "id": "860438c5",
   "metadata": {},
   "outputs": [
    {
     "data": {
      "text/plain": [
       "<function tensorflow.python.keras.datasets.imdb.load_data(path='imdb.npz', num_words=None, skip_top=0, maxlen=None, seed=113, start_char=1, oov_char=2, index_from=3, **kwargs)>"
      ]
     },
     "execution_count": 8,
     "metadata": {},
     "output_type": "execute_result"
    }
   ],
   "source": [
    "imdb.load_data"
   ]
  },
  {
   "cell_type": "code",
   "execution_count": 9,
   "id": "0c8a61a6",
   "metadata": {},
   "outputs": [
    {
     "data": {
      "text/plain": [
       "\"the as on floor or 5 claims course of here have away then also and think entire love using impression awful another and if an do time time do i i not series when find that is and character that into own have up been that's very older of entire of still i i was had one even eight when her your br when while great than girls minutes as on is whose and on of their it and view if up just is must this obligatory cage just fifteen other focus not imagination makes i i to few some but of time time here br of on and\""
      ]
     },
     "execution_count": 9,
     "metadata": {},
     "output_type": "execute_result"
    }
   ],
   "source": [
    "' '.join([index_2_word[i] for i in X_train[2000]])"
   ]
  },
  {
   "cell_type": "code",
   "execution_count": 10,
   "id": "619491bb",
   "metadata": {},
   "outputs": [],
   "source": [
    "X_train = sequence.pad_sequences(X_train, maxlen=300)\n",
    "X_test = sequence.pad_sequences(X_test, maxlen=300)"
   ]
  },
  {
   "cell_type": "code",
   "execution_count": 11,
   "id": "02ea7dc5",
   "metadata": {},
   "outputs": [
    {
     "name": "stdout",
     "output_type": "stream",
     "text": [
      "Model: \"sequential\"\n",
      "_________________________________________________________________\n",
      "Layer (type)                 Output Shape              Param #   \n",
      "=================================================================\n",
      "embedding (Embedding)        (None, None, 100)         1000000   \n",
      "_________________________________________________________________\n",
      "simple_rnn (SimpleRNN)       (None, 32)                4256      \n",
      "_________________________________________________________________\n",
      "dense (Dense)                (None, 1)                 33        \n",
      "=================================================================\n",
      "Total params: 1,004,289\n",
      "Trainable params: 1,004,289\n",
      "Non-trainable params: 0\n",
      "_________________________________________________________________\n"
     ]
    }
   ],
   "source": [
    "model = Sequential()\n",
    "\n",
    "model.add(Embedding(10000, 100))\n",
    "model.add(SimpleRNN(32))\n",
    "model.add(Dense(1, activation='sigmoid'))\n",
    "\n",
    "model.summary()"
   ]
  },
  {
   "cell_type": "code",
   "execution_count": 12,
   "id": "42099b59",
   "metadata": {},
   "outputs": [],
   "source": [
    "model.compile(optimizer='rmsprop', loss='binary_crossentropy', metrics=['acc'])"
   ]
  },
  {
   "cell_type": "code",
   "execution_count": 14,
   "id": "2511d35f",
   "metadata": {},
   "outputs": [],
   "source": [
    "checkpointer = ModelCheckpoint('best_model.h5',\n",
    "                           monitor='val_loss',\n",
    "                           verbose=1,\n",
    "                           save_best_only=True,\n",
    "                           save_weights_only=False,\n",
    "                           mode='auto',\n",
    "                           save_freq = 1\n",
    "                        )\n",
    "earlystopper = EarlyStopping(monitor='val_acc', patience=1)"
   ]
  },
  {
   "cell_type": "code",
   "execution_count": 15,
   "id": "42d82b98",
   "metadata": {},
   "outputs": [
    {
     "name": "stdout",
     "output_type": "stream",
     "text": [
      "Epoch 1/10\n",
      "  1/157 [..............................] - ETA: 4:19 - loss: 0.7155 - acc: 0.4219WARNING:tensorflow:Can save best model only with val_loss available, skipping.\n",
      "  2/157 [..............................] - ETA: 15s - loss: 0.7052 - acc: 0.4688 WARNING:tensorflow:Can save best model only with val_loss available, skipping.\n",
      "  3/157 [..............................] - ETA: 15s - loss: 0.6991 - acc: 0.5052WARNING:tensorflow:Can save best model only with val_loss available, skipping.\n",
      "  4/157 [..............................] - ETA: 15s - loss: 0.6972 - acc: 0.5059WARNING:tensorflow:Can save best model only with val_loss available, skipping.\n",
      "  5/157 [..............................] - ETA: 15s - loss: 0.6973 - acc: 0.5109WARNING:tensorflow:Can save best model only with val_loss available, skipping.\n",
      "  6/157 [>.............................] - ETA: 15s - loss: 0.6970 - acc: 0.5182WARNING:tensorflow:Can save best model only with val_loss available, skipping.\n",
      "  7/157 [>.............................] - ETA: 15s - loss: 0.6984 - acc: 0.5134WARNING:tensorflow:Can save best model only with val_loss available, skipping.\n",
      "  8/157 [>.............................] - ETA: 16s - loss: 0.6983 - acc: 0.5039WARNING:tensorflow:Can save best model only with val_loss available, skipping.\n",
      "  9/157 [>.............................] - ETA: 16s - loss: 0.6975 - acc: 0.5052WARNING:tensorflow:Can save best model only with val_loss available, skipping.\n",
      " 10/157 [>.............................] - ETA: 16s - loss: 0.6963 - acc: 0.5102WARNING:tensorflow:Can save best model only with val_loss available, skipping.\n",
      " 11/157 [=>............................] - ETA: 15s - loss: 0.6952 - acc: 0.5128WARNING:tensorflow:Can save best model only with val_loss available, skipping.\n",
      " 12/157 [=>............................] - ETA: 15s - loss: 0.6945 - acc: 0.5169WARNING:tensorflow:Can save best model only with val_loss available, skipping.\n",
      " 13/157 [=>............................] - ETA: 15s - loss: 0.6936 - acc: 0.5168WARNING:tensorflow:Can save best model only with val_loss available, skipping.\n",
      " 14/157 [=>............................] - ETA: 15s - loss: 0.6929 - acc: 0.5190WARNING:tensorflow:Can save best model only with val_loss available, skipping.\n",
      " 15/157 [=>............................] - ETA: 15s - loss: 0.6927 - acc: 0.5214WARNING:tensorflow:Can save best model only with val_loss available, skipping.\n",
      " 16/157 [==>...........................] - ETA: 14s - loss: 0.6922 - acc: 0.5264WARNING:tensorflow:Can save best model only with val_loss available, skipping.\n",
      " 17/157 [==>...........................] - ETA: 14s - loss: 0.6913 - acc: 0.5326WARNING:tensorflow:Can save best model only with val_loss available, skipping.\n",
      " 18/157 [==>...........................] - ETA: 14s - loss: 0.6909 - acc: 0.5326WARNING:tensorflow:Can save best model only with val_loss available, skipping.\n",
      " 19/157 [==>...........................] - ETA: 14s - loss: 0.6908 - acc: 0.5325WARNING:tensorflow:Can save best model only with val_loss available, skipping.\n",
      " 20/157 [==>...........................] - ETA: 14s - loss: 0.6904 - acc: 0.5312WARNING:tensorflow:Can save best model only with val_loss available, skipping.\n",
      " 21/157 [===>..........................] - ETA: 14s - loss: 0.6896 - acc: 0.5342WARNING:tensorflow:Can save best model only with val_loss available, skipping.\n",
      " 22/157 [===>..........................] - ETA: 14s - loss: 0.6892 - acc: 0.5369WARNING:tensorflow:Can save best model only with val_loss available, skipping.\n",
      " 23/157 [===>..........................] - ETA: 14s - loss: 0.6888 - acc: 0.5377WARNING:tensorflow:Can save best model only with val_loss available, skipping.\n",
      " 24/157 [===>..........................] - ETA: 14s - loss: 0.6887 - acc: 0.5394WARNING:tensorflow:Can save best model only with val_loss available, skipping.\n",
      " 25/157 [===>..........................] - ETA: 14s - loss: 0.6886 - acc: 0.5394WARNING:tensorflow:Can save best model only with val_loss available, skipping.\n",
      " 26/157 [===>..........................] - ETA: 13s - loss: 0.6880 - acc: 0.5394WARNING:tensorflow:Can save best model only with val_loss available, skipping.\n",
      " 27/157 [====>.........................] - ETA: 13s - loss: 0.6875 - acc: 0.5405WARNING:tensorflow:Can save best model only with val_loss available, skipping.\n",
      " 28/157 [====>.........................] - ETA: 13s - loss: 0.6869 - acc: 0.5410WARNING:tensorflow:Can save best model only with val_loss available, skipping.\n",
      " 29/157 [====>.........................] - ETA: 13s - loss: 0.6861 - acc: 0.5445WARNING:tensorflow:Can save best model only with val_loss available, skipping.\n",
      " 30/157 [====>.........................] - ETA: 13s - loss: 0.6853 - acc: 0.5464WARNING:tensorflow:Can save best model only with val_loss available, skipping.\n",
      " 31/157 [====>.........................] - ETA: 13s - loss: 0.6836 - acc: 0.5529WARNING:tensorflow:Can save best model only with val_loss available, skipping.\n",
      " 32/157 [=====>........................] - ETA: 13s - loss: 0.6814 - acc: 0.5586WARNING:tensorflow:Can save best model only with val_loss available, skipping.\n",
      " 33/157 [=====>........................] - ETA: 13s - loss: 0.6820 - acc: 0.5580WARNING:tensorflow:Can save best model only with val_loss available, skipping.\n",
      " 34/157 [=====>........................] - ETA: 13s - loss: 0.6803 - acc: 0.5602WARNING:tensorflow:Can save best model only with val_loss available, skipping.\n",
      " 35/157 [=====>........................] - ETA: 12s - loss: 0.6802 - acc: 0.5607WARNING:tensorflow:Can save best model only with val_loss available, skipping.\n",
      " 36/157 [=====>........................] - ETA: 12s - loss: 0.6795 - acc: 0.5614WARNING:tensorflow:Can save best model only with val_loss available, skipping.\n",
      " 37/157 [======>.......................] - ETA: 12s - loss: 0.6794 - acc: 0.5617WARNING:tensorflow:Can save best model only with val_loss available, skipping.\n",
      " 38/157 [======>.......................] - ETA: 12s - loss: 0.6775 - acc: 0.5654WARNING:tensorflow:Can save best model only with val_loss available, skipping.\n",
      " 39/157 [======>.......................] - ETA: 12s - loss: 0.6817 - acc: 0.5627WARNING:tensorflow:Can save best model only with val_loss available, skipping.\n",
      " 40/157 [======>.......................] - ETA: 12s - loss: 0.6807 - acc: 0.5641WARNING:tensorflow:Can save best model only with val_loss available, skipping.\n",
      " 41/157 [======>.......................] - ETA: 12s - loss: 0.6808 - acc: 0.5638WARNING:tensorflow:Can save best model only with val_loss available, skipping.\n",
      " 42/157 [=======>......................] - ETA: 12s - loss: 0.6801 - acc: 0.5662WARNING:tensorflow:Can save best model only with val_loss available, skipping.\n",
      " 43/157 [=======>......................] - ETA: 12s - loss: 0.6785 - acc: 0.5698WARNING:tensorflow:Can save best model only with val_loss available, skipping.\n",
      " 44/157 [=======>......................] - ETA: 11s - loss: 0.6775 - acc: 0.5719WARNING:tensorflow:Can save best model only with val_loss available, skipping.\n",
      " 45/157 [=======>......................] - ETA: 11s - loss: 0.6757 - acc: 0.5752WARNING:tensorflow:Can save best model only with val_loss available, skipping.\n",
      " 46/157 [=======>......................] - ETA: 11s - loss: 0.6726 - acc: 0.5790WARNING:tensorflow:Can save best model only with val_loss available, skipping.\n",
      " 47/157 [=======>......................] - ETA: 11s - loss: 0.6707 - acc: 0.5816WARNING:tensorflow:Can save best model only with val_loss available, skipping.\n",
      " 48/157 [========>.....................] - ETA: 11s - loss: 0.6693 - acc: 0.5837WARNING:tensorflow:Can save best model only with val_loss available, skipping.\n",
      " 49/157 [========>.....................] - ETA: 11s - loss: 0.6677 - acc: 0.5855WARNING:tensorflow:Can save best model only with val_loss available, skipping.\n",
      " 50/157 [========>.....................] - ETA: 11s - loss: 0.6690 - acc: 0.5842WARNING:tensorflow:Can save best model only with val_loss available, skipping.\n",
      " 51/157 [========>.....................] - ETA: 11s - loss: 0.6676 - acc: 0.5870WARNING:tensorflow:Can save best model only with val_loss available, skipping.\n"
     ]
    },
    {
     "name": "stdout",
     "output_type": "stream",
     "text": [
      " 52/157 [========>.....................] - ETA: 10s - loss: 0.6662 - acc: 0.5894WARNING:tensorflow:Can save best model only with val_loss available, skipping.\n",
      " 53/157 [=========>....................] - ETA: 10s - loss: 0.6644 - acc: 0.5918WARNING:tensorflow:Can save best model only with val_loss available, skipping.\n",
      " 54/157 [=========>....................] - ETA: 10s - loss: 0.6625 - acc: 0.5945WARNING:tensorflow:Can save best model only with val_loss available, skipping.\n",
      " 55/157 [=========>....................] - ETA: 10s - loss: 0.6608 - acc: 0.5966WARNING:tensorflow:Can save best model only with val_loss available, skipping.\n",
      " 56/157 [=========>....................] - ETA: 10s - loss: 0.6587 - acc: 0.6000WARNING:tensorflow:Can save best model only with val_loss available, skipping.\n",
      " 57/157 [=========>....................] - ETA: 10s - loss: 0.6568 - acc: 0.6025WARNING:tensorflow:Can save best model only with val_loss available, skipping.\n",
      " 58/157 [==========>...................] - ETA: 10s - loss: 0.6547 - acc: 0.6053WARNING:tensorflow:Can save best model only with val_loss available, skipping.\n",
      " 59/157 [==========>...................] - ETA: 10s - loss: 0.6531 - acc: 0.6077WARNING:tensorflow:Can save best model only with val_loss available, skipping.\n",
      " 60/157 [==========>...................] - ETA: 9s - loss: 0.6504 - acc: 0.6108 WARNING:tensorflow:Can save best model only with val_loss available, skipping.\n",
      " 61/157 [==========>...................] - ETA: 9s - loss: 0.6491 - acc: 0.6121WARNING:tensorflow:Can save best model only with val_loss available, skipping.\n",
      " 62/157 [==========>...................] - ETA: 9s - loss: 0.6483 - acc: 0.6140WARNING:tensorflow:Can save best model only with val_loss available, skipping.\n",
      " 63/157 [===========>..................] - ETA: 9s - loss: 0.6466 - acc: 0.6164WARNING:tensorflow:Can save best model only with val_loss available, skipping.\n",
      " 64/157 [===========>..................] - ETA: 9s - loss: 0.6443 - acc: 0.6194WARNING:tensorflow:Can save best model only with val_loss available, skipping.\n",
      " 65/157 [===========>..................] - ETA: 9s - loss: 0.6482 - acc: 0.6175WARNING:tensorflow:Can save best model only with val_loss available, skipping.\n",
      " 66/157 [===========>..................] - ETA: 9s - loss: 0.6482 - acc: 0.6177WARNING:tensorflow:Can save best model only with val_loss available, skipping.\n",
      " 67/157 [===========>..................] - ETA: 9s - loss: 0.6491 - acc: 0.6164WARNING:tensorflow:Can save best model only with val_loss available, skipping.\n",
      " 68/157 [===========>..................] - ETA: 8s - loss: 0.6471 - acc: 0.6187WARNING:tensorflow:Can save best model only with val_loss available, skipping.\n",
      " 69/157 [============>.................] - ETA: 8s - loss: 0.6442 - acc: 0.6219WARNING:tensorflow:Can save best model only with val_loss available, skipping.\n",
      " 70/157 [============>.................] - ETA: 8s - loss: 0.6427 - acc: 0.6233WARNING:tensorflow:Can save best model only with val_loss available, skipping.\n",
      " 71/157 [============>.................] - ETA: 8s - loss: 0.6411 - acc: 0.6247WARNING:tensorflow:Can save best model only with val_loss available, skipping.\n",
      " 72/157 [============>.................] - ETA: 8s - loss: 0.6386 - acc: 0.6275WARNING:tensorflow:Can save best model only with val_loss available, skipping.\n",
      " 73/157 [============>.................] - ETA: 8s - loss: 0.6370 - acc: 0.6292WARNING:tensorflow:Can save best model only with val_loss available, skipping.\n",
      " 74/157 [=============>................] - ETA: 8s - loss: 0.6354 - acc: 0.6309WARNING:tensorflow:Can save best model only with val_loss available, skipping.\n",
      " 75/157 [=============>................] - ETA: 8s - loss: 0.6336 - acc: 0.6327WARNING:tensorflow:Can save best model only with val_loss available, skipping.\n",
      " 76/157 [=============>................] - ETA: 8s - loss: 0.6314 - acc: 0.6353WARNING:tensorflow:Can save best model only with val_loss available, skipping.\n",
      " 77/157 [=============>................] - ETA: 7s - loss: 0.6291 - acc: 0.6373WARNING:tensorflow:Can save best model only with val_loss available, skipping.\n",
      " 78/157 [=============>................] - ETA: 7s - loss: 0.6282 - acc: 0.6385WARNING:tensorflow:Can save best model only with val_loss available, skipping.\n",
      " 79/157 [==============>...............] - ETA: 7s - loss: 0.6272 - acc: 0.6395WARNING:tensorflow:Can save best model only with val_loss available, skipping.\n",
      " 80/157 [==============>...............] - ETA: 7s - loss: 0.6263 - acc: 0.6407WARNING:tensorflow:Can save best model only with val_loss available, skipping.\n",
      " 81/157 [==============>...............] - ETA: 7s - loss: 0.6243 - acc: 0.6430WARNING:tensorflow:Can save best model only with val_loss available, skipping.\n",
      " 82/157 [==============>...............] - ETA: 7s - loss: 0.6228 - acc: 0.6446WARNING:tensorflow:Can save best model only with val_loss available, skipping.\n",
      " 83/157 [==============>...............] - ETA: 7s - loss: 0.6212 - acc: 0.6461WARNING:tensorflow:Can save best model only with val_loss available, skipping.\n",
      " 84/157 [===============>..............] - ETA: 7s - loss: 0.6190 - acc: 0.6482WARNING:tensorflow:Can save best model only with val_loss available, skipping.\n",
      " 85/157 [===============>..............] - ETA: 7s - loss: 0.6183 - acc: 0.6492WARNING:tensorflow:Can save best model only with val_loss available, skipping.\n",
      " 86/157 [===============>..............] - ETA: 6s - loss: 0.6168 - acc: 0.6508WARNING:tensorflow:Can save best model only with val_loss available, skipping.\n",
      " 87/157 [===============>..............] - ETA: 6s - loss: 0.6147 - acc: 0.6531WARNING:tensorflow:Can save best model only with val_loss available, skipping.\n",
      " 88/157 [===============>..............] - ETA: 6s - loss: 0.6136 - acc: 0.6540WARNING:tensorflow:Can save best model only with val_loss available, skipping.\n",
      " 89/157 [================>.............] - ETA: 6s - loss: 0.6124 - acc: 0.6554WARNING:tensorflow:Can save best model only with val_loss available, skipping.\n",
      " 90/157 [================>.............] - ETA: 6s - loss: 0.6109 - acc: 0.6569WARNING:tensorflow:Can save best model only with val_loss available, skipping.\n",
      " 91/157 [================>.............] - ETA: 6s - loss: 0.6095 - acc: 0.6583WARNING:tensorflow:Can save best model only with val_loss available, skipping.\n",
      " 92/157 [================>.............] - ETA: 6s - loss: 0.6079 - acc: 0.6599WARNING:tensorflow:Can save best model only with val_loss available, skipping.\n",
      " 93/157 [================>.............] - ETA: 6s - loss: 0.6077 - acc: 0.6602WARNING:tensorflow:Can save best model only with val_loss available, skipping.\n",
      " 94/157 [================>.............] - ETA: 6s - loss: 0.6061 - acc: 0.6618WARNING:tensorflow:Can save best model only with val_loss available, skipping.\n",
      " 95/157 [=================>............] - ETA: 6s - loss: 0.6038 - acc: 0.6641WARNING:tensorflow:Can save best model only with val_loss available, skipping.\n",
      " 96/157 [=================>............] - ETA: 5s - loss: 0.6032 - acc: 0.6649WARNING:tensorflow:Can save best model only with val_loss available, skipping.\n",
      " 97/157 [=================>............] - ETA: 5s - loss: 0.6017 - acc: 0.6662WARNING:tensorflow:Can save best model only with val_loss available, skipping.\n",
      " 98/157 [=================>............] - ETA: 5s - loss: 0.6000 - acc: 0.6680WARNING:tensorflow:Can save best model only with val_loss available, skipping.\n",
      " 99/157 [=================>............] - ETA: 5s - loss: 0.5980 - acc: 0.6699WARNING:tensorflow:Can save best model only with val_loss available, skipping.\n",
      "100/157 [==================>...........] - ETA: 5s - loss: 0.5967 - acc: 0.6711WARNING:tensorflow:Can save best model only with val_loss available, skipping.\n",
      "101/157 [==================>...........] - ETA: 5s - loss: 0.5950 - acc: 0.6723WARNING:tensorflow:Can save best model only with val_loss available, skipping.\n",
      "102/157 [==================>...........] - ETA: 5s - loss: 0.5956 - acc: 0.6722WARNING:tensorflow:Can save best model only with val_loss available, skipping.\n",
      "103/157 [==================>...........] - ETA: 5s - loss: 0.5949 - acc: 0.6726WARNING:tensorflow:Can save best model only with val_loss available, skipping.\n"
     ]
    },
    {
     "name": "stdout",
     "output_type": "stream",
     "text": [
      "104/157 [==================>...........] - ETA: 5s - loss: 0.5944 - acc: 0.6736WARNING:tensorflow:Can save best model only with val_loss available, skipping.\n",
      "105/157 [===================>..........] - ETA: 5s - loss: 0.5933 - acc: 0.6749WARNING:tensorflow:Can save best model only with val_loss available, skipping.\n",
      "106/157 [===================>..........] - ETA: 4s - loss: 0.5922 - acc: 0.6761WARNING:tensorflow:Can save best model only with val_loss available, skipping.\n",
      "107/157 [===================>..........] - ETA: 4s - loss: 0.5917 - acc: 0.6766WARNING:tensorflow:Can save best model only with val_loss available, skipping.\n",
      "108/157 [===================>..........] - ETA: 4s - loss: 0.5901 - acc: 0.6780WARNING:tensorflow:Can save best model only with val_loss available, skipping.\n",
      "109/157 [===================>..........] - ETA: 4s - loss: 0.5883 - acc: 0.6794WARNING:tensorflow:Can save best model only with val_loss available, skipping.\n",
      "110/157 [====================>.........] - ETA: 4s - loss: 0.5872 - acc: 0.6803WARNING:tensorflow:Can save best model only with val_loss available, skipping.\n",
      "111/157 [====================>.........] - ETA: 4s - loss: 0.5866 - acc: 0.6808WARNING:tensorflow:Can save best model only with val_loss available, skipping.\n",
      "112/157 [====================>.........] - ETA: 4s - loss: 0.5854 - acc: 0.6817WARNING:tensorflow:Can save best model only with val_loss available, skipping.\n",
      "113/157 [====================>.........] - ETA: 4s - loss: 0.5841 - acc: 0.6829WARNING:tensorflow:Can save best model only with val_loss available, skipping.\n",
      "114/157 [====================>.........] - ETA: 4s - loss: 0.5826 - acc: 0.6842WARNING:tensorflow:Can save best model only with val_loss available, skipping.\n",
      "115/157 [====================>.........] - ETA: 4s - loss: 0.5808 - acc: 0.6857WARNING:tensorflow:Can save best model only with val_loss available, skipping.\n",
      "116/157 [=====================>........] - ETA: 4s - loss: 0.5796 - acc: 0.6870WARNING:tensorflow:Can save best model only with val_loss available, skipping.\n",
      "117/157 [=====================>........] - ETA: 3s - loss: 0.5790 - acc: 0.6872WARNING:tensorflow:Can save best model only with val_loss available, skipping.\n",
      "118/157 [=====================>........] - ETA: 3s - loss: 0.5777 - acc: 0.6882WARNING:tensorflow:Can save best model only with val_loss available, skipping.\n",
      "119/157 [=====================>........] - ETA: 3s - loss: 0.5768 - acc: 0.6891WARNING:tensorflow:Can save best model only with val_loss available, skipping.\n",
      "120/157 [=====================>........] - ETA: 3s - loss: 0.5751 - acc: 0.6908WARNING:tensorflow:Can save best model only with val_loss available, skipping.\n",
      "121/157 [======================>.......] - ETA: 3s - loss: 0.5740 - acc: 0.6918WARNING:tensorflow:Can save best model only with val_loss available, skipping.\n",
      "122/157 [======================>.......] - ETA: 3s - loss: 0.5727 - acc: 0.6928WARNING:tensorflow:Can save best model only with val_loss available, skipping.\n",
      "123/157 [======================>.......] - ETA: 3s - loss: 0.5710 - acc: 0.6943WARNING:tensorflow:Can save best model only with val_loss available, skipping.\n",
      "124/157 [======================>.......] - ETA: 3s - loss: 0.5694 - acc: 0.6955WARNING:tensorflow:Can save best model only with val_loss available, skipping.\n",
      "125/157 [======================>.......] - ETA: 3s - loss: 0.5690 - acc: 0.6961WARNING:tensorflow:Can save best model only with val_loss available, skipping.\n",
      "126/157 [=======================>......] - ETA: 2s - loss: 0.5695 - acc: 0.6959WARNING:tensorflow:Can save best model only with val_loss available, skipping.\n",
      "127/157 [=======================>......] - ETA: 2s - loss: 0.5683 - acc: 0.6971WARNING:tensorflow:Can save best model only with val_loss available, skipping.\n",
      "128/157 [=======================>......] - ETA: 2s - loss: 0.5674 - acc: 0.6979WARNING:tensorflow:Can save best model only with val_loss available, skipping.\n",
      "129/157 [=======================>......] - ETA: 2s - loss: 0.5661 - acc: 0.6990WARNING:tensorflow:Can save best model only with val_loss available, skipping.\n",
      "130/157 [=======================>......] - ETA: 2s - loss: 0.5644 - acc: 0.7002WARNING:tensorflow:Can save best model only with val_loss available, skipping.\n",
      "131/157 [========================>.....] - ETA: 2s - loss: 0.5633 - acc: 0.7010WARNING:tensorflow:Can save best model only with val_loss available, skipping.\n",
      "132/157 [========================>.....] - ETA: 2s - loss: 0.5648 - acc: 0.7006WARNING:tensorflow:Can save best model only with val_loss available, skipping.\n",
      "133/157 [========================>.....] - ETA: 2s - loss: 0.5637 - acc: 0.7016WARNING:tensorflow:Can save best model only with val_loss available, skipping.\n",
      "134/157 [========================>.....] - ETA: 2s - loss: 0.5622 - acc: 0.7027WARNING:tensorflow:Can save best model only with val_loss available, skipping.\n",
      "135/157 [========================>.....] - ETA: 2s - loss: 0.5611 - acc: 0.7036WARNING:tensorflow:Can save best model only with val_loss available, skipping.\n",
      "136/157 [========================>.....] - ETA: 1s - loss: 0.5602 - acc: 0.7044WARNING:tensorflow:Can save best model only with val_loss available, skipping.\n",
      "137/157 [=========================>....] - ETA: 1s - loss: 0.5592 - acc: 0.7053WARNING:tensorflow:Can save best model only with val_loss available, skipping.\n",
      "138/157 [=========================>....] - ETA: 1s - loss: 0.5586 - acc: 0.7057WARNING:tensorflow:Can save best model only with val_loss available, skipping.\n",
      "139/157 [=========================>....] - ETA: 1s - loss: 0.5580 - acc: 0.7059WARNING:tensorflow:Can save best model only with val_loss available, skipping.\n",
      "140/157 [=========================>....] - ETA: 1s - loss: 0.5574 - acc: 0.7065WARNING:tensorflow:Can save best model only with val_loss available, skipping.\n",
      "141/157 [=========================>....] - ETA: 1s - loss: 0.5569 - acc: 0.7072WARNING:tensorflow:Can save best model only with val_loss available, skipping.\n",
      "142/157 [==========================>...] - ETA: 1s - loss: 0.5562 - acc: 0.7075WARNING:tensorflow:Can save best model only with val_loss available, skipping.\n",
      "143/157 [==========================>...] - ETA: 1s - loss: 0.5547 - acc: 0.7088WARNING:tensorflow:Can save best model only with val_loss available, skipping.\n",
      "144/157 [==========================>...] - ETA: 1s - loss: 0.5535 - acc: 0.7098WARNING:tensorflow:Can save best model only with val_loss available, skipping.\n",
      "145/157 [==========================>...] - ETA: 1s - loss: 0.5527 - acc: 0.7106WARNING:tensorflow:Can save best model only with val_loss available, skipping.\n",
      "146/157 [==========================>...] - ETA: 1s - loss: 0.5513 - acc: 0.7116WARNING:tensorflow:Can save best model only with val_loss available, skipping.\n",
      "147/157 [===========================>..] - ETA: 0s - loss: 0.5504 - acc: 0.7123WARNING:tensorflow:Can save best model only with val_loss available, skipping.\n",
      "148/157 [===========================>..] - ETA: 0s - loss: 0.5491 - acc: 0.7133WARNING:tensorflow:Can save best model only with val_loss available, skipping.\n",
      "149/157 [===========================>..] - ETA: 0s - loss: 0.5476 - acc: 0.7145WARNING:tensorflow:Can save best model only with val_loss available, skipping.\n",
      "150/157 [===========================>..] - ETA: 0s - loss: 0.5465 - acc: 0.7151WARNING:tensorflow:Can save best model only with val_loss available, skipping.\n",
      "151/157 [===========================>..] - ETA: 0s - loss: 0.5455 - acc: 0.7159WARNING:tensorflow:Can save best model only with val_loss available, skipping.\n",
      "152/157 [============================>.] - ETA: 0s - loss: 0.5445 - acc: 0.7166WARNING:tensorflow:Can save best model only with val_loss available, skipping.\n",
      "153/157 [============================>.] - ETA: 0s - loss: 0.5435 - acc: 0.7173WARNING:tensorflow:Can save best model only with val_loss available, skipping.\n",
      "154/157 [============================>.] - ETA: 0s - loss: 0.5422 - acc: 0.7181WARNING:tensorflow:Can save best model only with val_loss available, skipping.\n",
      "155/157 [============================>.] - ETA: 0s - loss: 0.5415 - acc: 0.7187WARNING:tensorflow:Can save best model only with val_loss available, skipping.\n"
     ]
    },
    {
     "name": "stdout",
     "output_type": "stream",
     "text": [
      "156/157 [============================>.] - ETA: 0s - loss: 0.5404 - acc: 0.7196WARNING:tensorflow:Can save best model only with val_loss available, skipping.\n",
      "157/157 [==============================] - ETA: 0s - loss: 0.5400 - acc: 0.7198WARNING:tensorflow:Can save best model only with val_loss available, skipping.\n",
      "157/157 [==============================] - 18s 103ms/step - loss: 0.5400 - acc: 0.7198 - val_loss: 0.5032 - val_acc: 0.7744\n",
      "Epoch 2/10\n",
      "  1/157 [..............................] - ETA: 12s - loss: 0.3760 - acc: 0.8281WARNING:tensorflow:Can save best model only with val_loss available, skipping.\n",
      "  2/157 [..............................] - ETA: 12s - loss: 0.3756 - acc: 0.8359WARNING:tensorflow:Can save best model only with val_loss available, skipping.\n",
      "  3/157 [..............................] - ETA: 12s - loss: 0.3595 - acc: 0.8490WARNING:tensorflow:Can save best model only with val_loss available, skipping.\n",
      "  4/157 [..............................] - ETA: 12s - loss: 0.3592 - acc: 0.8477WARNING:tensorflow:Can save best model only with val_loss available, skipping.\n",
      "  5/157 [..............................] - ETA: 12s - loss: 0.3425 - acc: 0.8594WARNING:tensorflow:Can save best model only with val_loss available, skipping.\n",
      "  6/157 [>.............................] - ETA: 12s - loss: 0.3684 - acc: 0.8346WARNING:tensorflow:Can save best model only with val_loss available, skipping.\n",
      "  7/157 [>.............................] - ETA: 12s - loss: 0.3910 - acc: 0.8181WARNING:tensorflow:Can save best model only with val_loss available, skipping.\n",
      "  8/157 [>.............................] - ETA: 12s - loss: 0.4034 - acc: 0.8076WARNING:tensorflow:Can save best model only with val_loss available, skipping.\n",
      "  9/157 [>.............................] - ETA: 12s - loss: 0.4153 - acc: 0.7995WARNING:tensorflow:Can save best model only with val_loss available, skipping.\n",
      " 10/157 [>.............................] - ETA: 12s - loss: 0.4198 - acc: 0.8008WARNING:tensorflow:Can save best model only with val_loss available, skipping.\n",
      " 11/157 [=>............................] - ETA: 12s - loss: 0.4195 - acc: 0.8004WARNING:tensorflow:Can save best model only with val_loss available, skipping.\n",
      " 12/157 [=>............................] - ETA: 12s - loss: 0.4156 - acc: 0.8066WARNING:tensorflow:Can save best model only with val_loss available, skipping.\n",
      " 13/157 [=>............................] - ETA: 11s - loss: 0.4154 - acc: 0.8083WARNING:tensorflow:Can save best model only with val_loss available, skipping.\n",
      " 14/157 [=>............................] - ETA: 11s - loss: 0.4119 - acc: 0.8119WARNING:tensorflow:Can save best model only with val_loss available, skipping.\n",
      " 15/157 [=>............................] - ETA: 11s - loss: 0.4085 - acc: 0.8156WARNING:tensorflow:Can save best model only with val_loss available, skipping.\n",
      " 16/157 [==>...........................] - ETA: 11s - loss: 0.4012 - acc: 0.8198WARNING:tensorflow:Can save best model only with val_loss available, skipping.\n",
      " 17/157 [==>...........................] - ETA: 11s - loss: 0.3976 - acc: 0.8231WARNING:tensorflow:Can save best model only with val_loss available, skipping.\n",
      " 18/157 [==>...........................] - ETA: 11s - loss: 0.3896 - acc: 0.8281WARNING:tensorflow:Can save best model only with val_loss available, skipping.\n",
      " 19/157 [==>...........................] - ETA: 11s - loss: 0.3877 - acc: 0.8306WARNING:tensorflow:Can save best model only with val_loss available, skipping.\n",
      " 20/157 [==>...........................] - ETA: 11s - loss: 0.3832 - acc: 0.8332WARNING:tensorflow:Can save best model only with val_loss available, skipping.\n",
      " 21/157 [===>..........................] - ETA: 11s - loss: 0.3847 - acc: 0.8333WARNING:tensorflow:Can save best model only with val_loss available, skipping.\n",
      " 22/157 [===>..........................] - ETA: 11s - loss: 0.3952 - acc: 0.8278WARNING:tensorflow:Can save best model only with val_loss available, skipping.\n",
      " 23/157 [===>..........................] - ETA: 11s - loss: 0.3916 - acc: 0.8295WARNING:tensorflow:Can save best model only with val_loss available, skipping.\n",
      " 24/157 [===>..........................] - ETA: 11s - loss: 0.3945 - acc: 0.8278WARNING:tensorflow:Can save best model only with val_loss available, skipping.\n",
      " 25/157 [===>..........................] - ETA: 11s - loss: 0.3897 - acc: 0.8309WARNING:tensorflow:Can save best model only with val_loss available, skipping.\n",
      " 26/157 [===>..........................] - ETA: 11s - loss: 0.4188 - acc: 0.8200WARNING:tensorflow:Can save best model only with val_loss available, skipping.\n",
      " 27/157 [====>.........................] - ETA: 11s - loss: 0.4442 - acc: 0.8105WARNING:tensorflow:Can save best model only with val_loss available, skipping.\n",
      " 28/157 [====>.........................] - ETA: 11s - loss: 0.4601 - acc: 0.8033WARNING:tensorflow:Can save best model only with val_loss available, skipping.\n",
      " 29/157 [====>.........................] - ETA: 11s - loss: 0.4643 - acc: 0.8015WARNING:tensorflow:Can save best model only with val_loss available, skipping.\n",
      " 30/157 [====>.........................] - ETA: 11s - loss: 0.4686 - acc: 0.7984WARNING:tensorflow:Can save best model only with val_loss available, skipping.\n",
      " 31/157 [====>.........................] - ETA: 11s - loss: 0.4664 - acc: 0.7989WARNING:tensorflow:Can save best model only with val_loss available, skipping.\n",
      " 32/157 [=====>........................] - ETA: 11s - loss: 0.4609 - acc: 0.8020WARNING:tensorflow:Can save best model only with val_loss available, skipping.\n",
      " 33/157 [=====>........................] - ETA: 10s - loss: 0.4567 - acc: 0.8045WARNING:tensorflow:Can save best model only with val_loss available, skipping.\n",
      " 34/157 [=====>........................] - ETA: 10s - loss: 0.4531 - acc: 0.8058WARNING:tensorflow:Can save best model only with val_loss available, skipping.\n",
      " 35/157 [=====>........................] - ETA: 10s - loss: 0.4500 - acc: 0.8062WARNING:tensorflow:Can save best model only with val_loss available, skipping.\n",
      " 36/157 [=====>........................] - ETA: 10s - loss: 0.4470 - acc: 0.8082WARNING:tensorflow:Can save best model only with val_loss available, skipping.\n",
      " 37/157 [======>.......................] - ETA: 10s - loss: 0.4432 - acc: 0.8104WARNING:tensorflow:Can save best model only with val_loss available, skipping.\n",
      " 38/157 [======>.......................] - ETA: 10s - loss: 0.4404 - acc: 0.8111WARNING:tensorflow:Can save best model only with val_loss available, skipping.\n",
      " 39/157 [======>.......................] - ETA: 10s - loss: 0.4374 - acc: 0.8129WARNING:tensorflow:Can save best model only with val_loss available, skipping.\n",
      " 40/157 [======>.......................] - ETA: 10s - loss: 0.4346 - acc: 0.8150WARNING:tensorflow:Can save best model only with val_loss available, skipping.\n",
      " 41/157 [======>.......................] - ETA: 10s - loss: 0.4325 - acc: 0.8165WARNING:tensorflow:Can save best model only with val_loss available, skipping.\n",
      " 42/157 [=======>......................] - ETA: 10s - loss: 0.4300 - acc: 0.8179WARNING:tensorflow:Can save best model only with val_loss available, skipping.\n",
      " 43/157 [=======>......................] - ETA: 10s - loss: 0.4308 - acc: 0.8176WARNING:tensorflow:Can save best model only with val_loss available, skipping.\n",
      " 44/157 [=======>......................] - ETA: 10s - loss: 0.4281 - acc: 0.8192WARNING:tensorflow:Can save best model only with val_loss available, skipping.\n",
      " 45/157 [=======>......................] - ETA: 10s - loss: 0.4249 - acc: 0.8207WARNING:tensorflow:Can save best model only with val_loss available, skipping.\n",
      " 46/157 [=======>......................] - ETA: 9s - loss: 0.4223 - acc: 0.8222 WARNING:tensorflow:Can save best model only with val_loss available, skipping.\n",
      " 47/157 [=======>......................] - ETA: 9s - loss: 0.4211 - acc: 0.8225WARNING:tensorflow:Can save best model only with val_loss available, skipping.\n",
      " 48/157 [========>.....................] - ETA: 9s - loss: 0.4185 - acc: 0.8239WARNING:tensorflow:Can save best model only with val_loss available, skipping.\n",
      " 49/157 [========>.....................] - ETA: 9s - loss: 0.4182 - acc: 0.8241WARNING:tensorflow:Can save best model only with val_loss available, skipping.\n"
     ]
    },
    {
     "name": "stdout",
     "output_type": "stream",
     "text": [
      " 50/157 [========>.....................] - ETA: 9s - loss: 0.4169 - acc: 0.8247WARNING:tensorflow:Can save best model only with val_loss available, skipping.\n",
      " 51/157 [========>.....................] - ETA: 9s - loss: 0.4171 - acc: 0.8240WARNING:tensorflow:Can save best model only with val_loss available, skipping.\n",
      " 52/157 [========>.....................] - ETA: 9s - loss: 0.4143 - acc: 0.8256WARNING:tensorflow:Can save best model only with val_loss available, skipping.\n",
      " 53/157 [=========>....................] - ETA: 9s - loss: 0.4131 - acc: 0.8265WARNING:tensorflow:Can save best model only with val_loss available, skipping.\n",
      " 54/157 [=========>....................] - ETA: 9s - loss: 0.4112 - acc: 0.8278WARNING:tensorflow:Can save best model only with val_loss available, skipping.\n",
      " 55/157 [=========>....................] - ETA: 9s - loss: 0.4104 - acc: 0.8278WARNING:tensorflow:Can save best model only with val_loss available, skipping.\n",
      " 56/157 [=========>....................] - ETA: 9s - loss: 0.4080 - acc: 0.8295WARNING:tensorflow:Can save best model only with val_loss available, skipping.\n",
      " 57/157 [=========>....................] - ETA: 8s - loss: 0.4059 - acc: 0.8310WARNING:tensorflow:Can save best model only with val_loss available, skipping.\n",
      " 58/157 [==========>...................] - ETA: 8s - loss: 0.4055 - acc: 0.8307WARNING:tensorflow:Can save best model only with val_loss available, skipping.\n",
      " 59/157 [==========>...................] - ETA: 8s - loss: 0.4043 - acc: 0.8314WARNING:tensorflow:Can save best model only with val_loss available, skipping.\n",
      " 60/157 [==========>...................] - ETA: 8s - loss: 0.4029 - acc: 0.8323WARNING:tensorflow:Can save best model only with val_loss available, skipping.\n",
      " 61/157 [==========>...................] - ETA: 8s - loss: 0.4017 - acc: 0.8329WARNING:tensorflow:Can save best model only with val_loss available, skipping.\n",
      " 62/157 [==========>...................] - ETA: 8s - loss: 0.4000 - acc: 0.8337WARNING:tensorflow:Can save best model only with val_loss available, skipping.\n",
      " 63/157 [===========>..................] - ETA: 8s - loss: 0.3981 - acc: 0.8348WARNING:tensorflow:Can save best model only with val_loss available, skipping.\n",
      " 64/157 [===========>..................] - ETA: 8s - loss: 0.3966 - acc: 0.8356WARNING:tensorflow:Can save best model only with val_loss available, skipping.\n",
      " 65/157 [===========>..................] - ETA: 8s - loss: 0.3960 - acc: 0.8359WARNING:tensorflow:Can save best model only with val_loss available, skipping.\n",
      " 66/157 [===========>..................] - ETA: 8s - loss: 0.3948 - acc: 0.8369WARNING:tensorflow:Can save best model only with val_loss available, skipping.\n",
      " 67/157 [===========>..................] - ETA: 7s - loss: 0.3944 - acc: 0.8368WARNING:tensorflow:Can save best model only with val_loss available, skipping.\n",
      " 68/157 [===========>..................] - ETA: 7s - loss: 0.3930 - acc: 0.8374WARNING:tensorflow:Can save best model only with val_loss available, skipping.\n",
      " 69/157 [============>.................] - ETA: 7s - loss: 0.3919 - acc: 0.8380WARNING:tensorflow:Can save best model only with val_loss available, skipping.\n",
      " 70/157 [============>.................] - ETA: 7s - loss: 0.3929 - acc: 0.8372WARNING:tensorflow:Can save best model only with val_loss available, skipping.\n",
      " 71/157 [============>.................] - ETA: 7s - loss: 0.3930 - acc: 0.8368WARNING:tensorflow:Can save best model only with val_loss available, skipping.\n",
      " 72/157 [============>.................] - ETA: 7s - loss: 0.3919 - acc: 0.8375WARNING:tensorflow:Can save best model only with val_loss available, skipping.\n",
      " 73/157 [============>.................] - ETA: 7s - loss: 0.3906 - acc: 0.8379WARNING:tensorflow:Can save best model only with val_loss available, skipping.\n",
      " 74/157 [=============>................] - ETA: 7s - loss: 0.3896 - acc: 0.8384WARNING:tensorflow:Can save best model only with val_loss available, skipping.\n",
      " 75/157 [=============>................] - ETA: 7s - loss: 0.3896 - acc: 0.8382WARNING:tensorflow:Can save best model only with val_loss available, skipping.\n",
      " 76/157 [=============>................] - ETA: 7s - loss: 0.3885 - acc: 0.8389WARNING:tensorflow:Can save best model only with val_loss available, skipping.\n",
      " 77/157 [=============>................] - ETA: 6s - loss: 0.3885 - acc: 0.8390WARNING:tensorflow:Can save best model only with val_loss available, skipping.\n",
      " 78/157 [=============>................] - ETA: 6s - loss: 0.3882 - acc: 0.8388WARNING:tensorflow:Can save best model only with val_loss available, skipping.\n",
      " 79/157 [==============>...............] - ETA: 6s - loss: 0.3920 - acc: 0.8372WARNING:tensorflow:Can save best model only with val_loss available, skipping.\n",
      " 80/157 [==============>...............] - ETA: 6s - loss: 0.3920 - acc: 0.8374WARNING:tensorflow:Can save best model only with val_loss available, skipping.\n",
      " 81/157 [==============>...............] - ETA: 6s - loss: 0.3932 - acc: 0.8369WARNING:tensorflow:Can save best model only with val_loss available, skipping.\n",
      " 82/157 [==============>...............] - ETA: 6s - loss: 0.3944 - acc: 0.8367WARNING:tensorflow:Can save best model only with val_loss available, skipping.\n",
      " 83/157 [==============>...............] - ETA: 6s - loss: 0.3936 - acc: 0.8372WARNING:tensorflow:Can save best model only with val_loss available, skipping.\n",
      " 84/157 [===============>..............] - ETA: 6s - loss: 0.3933 - acc: 0.8372WARNING:tensorflow:Can save best model only with val_loss available, skipping.\n",
      " 85/157 [===============>..............] - ETA: 6s - loss: 0.3934 - acc: 0.8371WARNING:tensorflow:Can save best model only with val_loss available, skipping.\n",
      " 86/157 [===============>..............] - ETA: 6s - loss: 0.3935 - acc: 0.8372WARNING:tensorflow:Can save best model only with val_loss available, skipping.\n",
      " 87/157 [===============>..............] - ETA: 6s - loss: 0.3928 - acc: 0.8375WARNING:tensorflow:Can save best model only with val_loss available, skipping.\n",
      " 88/157 [===============>..............] - ETA: 6s - loss: 0.3919 - acc: 0.8379WARNING:tensorflow:Can save best model only with val_loss available, skipping.\n",
      " 89/157 [================>.............] - ETA: 5s - loss: 0.3918 - acc: 0.8379WARNING:tensorflow:Can save best model only with val_loss available, skipping.\n",
      " 90/157 [================>.............] - ETA: 5s - loss: 0.3915 - acc: 0.8382WARNING:tensorflow:Can save best model only with val_loss available, skipping.\n",
      " 91/157 [================>.............] - ETA: 5s - loss: 0.3909 - acc: 0.8383WARNING:tensorflow:Can save best model only with val_loss available, skipping.\n",
      " 92/157 [================>.............] - ETA: 5s - loss: 0.3906 - acc: 0.8386WARNING:tensorflow:Can save best model only with val_loss available, skipping.\n",
      " 93/157 [================>.............] - ETA: 5s - loss: 0.3907 - acc: 0.8384WARNING:tensorflow:Can save best model only with val_loss available, skipping.\n",
      " 94/157 [================>.............] - ETA: 5s - loss: 0.3904 - acc: 0.8386WARNING:tensorflow:Can save best model only with val_loss available, skipping.\n",
      " 95/157 [=================>............] - ETA: 5s - loss: 0.3891 - acc: 0.8393WARNING:tensorflow:Can save best model only with val_loss available, skipping.\n",
      " 96/157 [=================>............] - ETA: 5s - loss: 0.3887 - acc: 0.8396WARNING:tensorflow:Can save best model only with val_loss available, skipping.\n",
      " 97/157 [=================>............] - ETA: 5s - loss: 0.3878 - acc: 0.8402WARNING:tensorflow:Can save best model only with val_loss available, skipping.\n",
      " 98/157 [=================>............] - ETA: 5s - loss: 0.3870 - acc: 0.8404WARNING:tensorflow:Can save best model only with val_loss available, skipping.\n",
      " 99/157 [=================>............] - ETA: 5s - loss: 0.3857 - acc: 0.8412WARNING:tensorflow:Can save best model only with val_loss available, skipping.\n",
      "100/157 [==================>...........] - ETA: 4s - loss: 0.3852 - acc: 0.8414WARNING:tensorflow:Can save best model only with val_loss available, skipping.\n",
      "101/157 [==================>...........] - ETA: 4s - loss: 0.3845 - acc: 0.8418WARNING:tensorflow:Can save best model only with val_loss available, skipping.\n"
     ]
    },
    {
     "name": "stdout",
     "output_type": "stream",
     "text": [
      "102/157 [==================>...........] - ETA: 4s - loss: 0.3837 - acc: 0.8419WARNING:tensorflow:Can save best model only with val_loss available, skipping.\n",
      "103/157 [==================>...........] - ETA: 4s - loss: 0.3834 - acc: 0.8419WARNING:tensorflow:Can save best model only with val_loss available, skipping.\n",
      "104/157 [==================>...........] - ETA: 4s - loss: 0.3830 - acc: 0.8422WARNING:tensorflow:Can save best model only with val_loss available, skipping.\n",
      "105/157 [===================>..........] - ETA: 4s - loss: 0.3831 - acc: 0.8423WARNING:tensorflow:Can save best model only with val_loss available, skipping.\n",
      "106/157 [===================>..........] - ETA: 4s - loss: 0.3826 - acc: 0.8424WARNING:tensorflow:Can save best model only with val_loss available, skipping.\n",
      "107/157 [===================>..........] - ETA: 4s - loss: 0.3821 - acc: 0.8426WARNING:tensorflow:Can save best model only with val_loss available, skipping.\n",
      "108/157 [===================>..........] - ETA: 4s - loss: 0.3818 - acc: 0.8427WARNING:tensorflow:Can save best model only with val_loss available, skipping.\n",
      "109/157 [===================>..........] - ETA: 4s - loss: 0.3816 - acc: 0.8428WARNING:tensorflow:Can save best model only with val_loss available, skipping.\n",
      "110/157 [====================>.........] - ETA: 4s - loss: 0.3814 - acc: 0.8429WARNING:tensorflow:Can save best model only with val_loss available, skipping.\n",
      "111/157 [====================>.........] - ETA: 4s - loss: 0.3810 - acc: 0.8430WARNING:tensorflow:Can save best model only with val_loss available, skipping.\n",
      "112/157 [====================>.........] - ETA: 3s - loss: 0.3807 - acc: 0.8431WARNING:tensorflow:Can save best model only with val_loss available, skipping.\n",
      "113/157 [====================>.........] - ETA: 3s - loss: 0.3806 - acc: 0.8430WARNING:tensorflow:Can save best model only with val_loss available, skipping.\n",
      "114/157 [====================>.........] - ETA: 3s - loss: 0.3801 - acc: 0.8433WARNING:tensorflow:Can save best model only with val_loss available, skipping.\n",
      "115/157 [====================>.........] - ETA: 3s - loss: 0.3789 - acc: 0.8441WARNING:tensorflow:Can save best model only with val_loss available, skipping.\n",
      "116/157 [=====================>........] - ETA: 3s - loss: 0.3788 - acc: 0.8440WARNING:tensorflow:Can save best model only with val_loss available, skipping.\n",
      "117/157 [=====================>........] - ETA: 3s - loss: 0.3786 - acc: 0.8442WARNING:tensorflow:Can save best model only with val_loss available, skipping.\n",
      "118/157 [=====================>........] - ETA: 3s - loss: 0.3784 - acc: 0.8443WARNING:tensorflow:Can save best model only with val_loss available, skipping.\n",
      "119/157 [=====================>........] - ETA: 3s - loss: 0.3781 - acc: 0.8443WARNING:tensorflow:Can save best model only with val_loss available, skipping.\n",
      "120/157 [=====================>........] - ETA: 3s - loss: 0.3779 - acc: 0.8443WARNING:tensorflow:Can save best model only with val_loss available, skipping.\n",
      "121/157 [======================>.......] - ETA: 3s - loss: 0.3771 - acc: 0.8448WARNING:tensorflow:Can save best model only with val_loss available, skipping.\n",
      "122/157 [======================>.......] - ETA: 3s - loss: 0.3770 - acc: 0.8449WARNING:tensorflow:Can save best model only with val_loss available, skipping.\n",
      "123/157 [======================>.......] - ETA: 3s - loss: 0.3764 - acc: 0.8451WARNING:tensorflow:Can save best model only with val_loss available, skipping.\n",
      "124/157 [======================>.......] - ETA: 2s - loss: 0.3759 - acc: 0.8452WARNING:tensorflow:Can save best model only with val_loss available, skipping.\n",
      "125/157 [======================>.......] - ETA: 2s - loss: 0.3760 - acc: 0.8452WARNING:tensorflow:Can save best model only with val_loss available, skipping.\n",
      "126/157 [=======================>......] - ETA: 2s - loss: 0.3754 - acc: 0.8455WARNING:tensorflow:Can save best model only with val_loss available, skipping.\n",
      "127/157 [=======================>......] - ETA: 2s - loss: 0.3748 - acc: 0.8458WARNING:tensorflow:Can save best model only with val_loss available, skipping.\n",
      "128/157 [=======================>......] - ETA: 2s - loss: 0.3742 - acc: 0.8461WARNING:tensorflow:Can save best model only with val_loss available, skipping.\n",
      "129/157 [=======================>......] - ETA: 2s - loss: 0.3735 - acc: 0.8464WARNING:tensorflow:Can save best model only with val_loss available, skipping.\n",
      "130/157 [=======================>......] - ETA: 2s - loss: 0.3728 - acc: 0.8468WARNING:tensorflow:Can save best model only with val_loss available, skipping.\n",
      "131/157 [========================>.....] - ETA: 2s - loss: 0.3727 - acc: 0.8469WARNING:tensorflow:Can save best model only with val_loss available, skipping.\n",
      "132/157 [========================>.....] - ETA: 2s - loss: 0.3723 - acc: 0.8472WARNING:tensorflow:Can save best model only with val_loss available, skipping.\n",
      "133/157 [========================>.....] - ETA: 2s - loss: 0.3716 - acc: 0.8475WARNING:tensorflow:Can save best model only with val_loss available, skipping.\n",
      "134/157 [========================>.....] - ETA: 2s - loss: 0.3716 - acc: 0.8476WARNING:tensorflow:Can save best model only with val_loss available, skipping.\n",
      "135/157 [========================>.....] - ETA: 1s - loss: 0.3716 - acc: 0.8473WARNING:tensorflow:Can save best model only with val_loss available, skipping.\n",
      "136/157 [========================>.....] - ETA: 1s - loss: 0.3711 - acc: 0.8474WARNING:tensorflow:Can save best model only with val_loss available, skipping.\n",
      "137/157 [=========================>....] - ETA: 1s - loss: 0.3704 - acc: 0.8479WARNING:tensorflow:Can save best model only with val_loss available, skipping.\n",
      "138/157 [=========================>....] - ETA: 1s - loss: 0.3697 - acc: 0.8482WARNING:tensorflow:Can save best model only with val_loss available, skipping.\n",
      "139/157 [=========================>....] - ETA: 1s - loss: 0.3699 - acc: 0.8480WARNING:tensorflow:Can save best model only with val_loss available, skipping.\n",
      "140/157 [=========================>....] - ETA: 1s - loss: 0.3696 - acc: 0.8480WARNING:tensorflow:Can save best model only with val_loss available, skipping.\n",
      "141/157 [=========================>....] - ETA: 1s - loss: 0.3693 - acc: 0.8481WARNING:tensorflow:Can save best model only with val_loss available, skipping.\n",
      "142/157 [==========================>...] - ETA: 1s - loss: 0.3690 - acc: 0.8481WARNING:tensorflow:Can save best model only with val_loss available, skipping.\n",
      "143/157 [==========================>...] - ETA: 1s - loss: 0.3682 - acc: 0.8484WARNING:tensorflow:Can save best model only with val_loss available, skipping.\n",
      "144/157 [==========================>...] - ETA: 1s - loss: 0.3685 - acc: 0.8483WARNING:tensorflow:Can save best model only with val_loss available, skipping.\n",
      "145/157 [==========================>...] - ETA: 1s - loss: 0.3679 - acc: 0.8488WARNING:tensorflow:Can save best model only with val_loss available, skipping.\n",
      "146/157 [==========================>...] - ETA: 0s - loss: 0.3679 - acc: 0.8488WARNING:tensorflow:Can save best model only with val_loss available, skipping.\n",
      "147/157 [===========================>..] - ETA: 0s - loss: 0.3683 - acc: 0.8483WARNING:tensorflow:Can save best model only with val_loss available, skipping.\n",
      "148/157 [===========================>..] - ETA: 0s - loss: 0.3680 - acc: 0.8484WARNING:tensorflow:Can save best model only with val_loss available, skipping.\n",
      "149/157 [===========================>..] - ETA: 0s - loss: 0.3675 - acc: 0.8487WARNING:tensorflow:Can save best model only with val_loss available, skipping.\n",
      "150/157 [===========================>..] - ETA: 0s - loss: 0.3683 - acc: 0.8483WARNING:tensorflow:Can save best model only with val_loss available, skipping.\n",
      "151/157 [===========================>..] - ETA: 0s - loss: 0.3679 - acc: 0.8486WARNING:tensorflow:Can save best model only with val_loss available, skipping.\n",
      "152/157 [============================>.] - ETA: 0s - loss: 0.3678 - acc: 0.8486WARNING:tensorflow:Can save best model only with val_loss available, skipping.\n",
      "153/157 [============================>.] - ETA: 0s - loss: 0.3678 - acc: 0.8485WARNING:tensorflow:Can save best model only with val_loss available, skipping.\n"
     ]
    },
    {
     "name": "stdout",
     "output_type": "stream",
     "text": [
      "154/157 [============================>.] - ETA: 0s - loss: 0.3670 - acc: 0.8488WARNING:tensorflow:Can save best model only with val_loss available, skipping.\n",
      "155/157 [============================>.] - ETA: 0s - loss: 0.3663 - acc: 0.8491WARNING:tensorflow:Can save best model only with val_loss available, skipping.\n",
      "156/157 [============================>.] - ETA: 0s - loss: 0.3656 - acc: 0.8497WARNING:tensorflow:Can save best model only with val_loss available, skipping.\n",
      "157/157 [==============================] - ETA: 0s - loss: 0.3655 - acc: 0.8497WARNING:tensorflow:Can save best model only with val_loss available, skipping.\n",
      "157/157 [==============================] - 15s 98ms/step - loss: 0.3655 - acc: 0.8497 - val_loss: 0.3476 - val_acc: 0.8544\n",
      "Epoch 3/10\n",
      "  1/157 [..............................] - ETA: 12s - loss: 0.2482 - acc: 0.9062WARNING:tensorflow:Can save best model only with val_loss available, skipping.\n",
      "  2/157 [..............................] - ETA: 13s - loss: 0.2531 - acc: 0.9023WARNING:tensorflow:Can save best model only with val_loss available, skipping.\n",
      "  3/157 [..............................] - ETA: 14s - loss: 0.2496 - acc: 0.9036WARNING:tensorflow:Can save best model only with val_loss available, skipping.\n",
      "  4/157 [..............................] - ETA: 13s - loss: 0.2601 - acc: 0.8965WARNING:tensorflow:Can save best model only with val_loss available, skipping.\n",
      "  5/157 [..............................] - ETA: 13s - loss: 0.2656 - acc: 0.9000WARNING:tensorflow:Can save best model only with val_loss available, skipping.\n",
      "  6/157 [>.............................] - ETA: 13s - loss: 0.2643 - acc: 0.8984WARNING:tensorflow:Can save best model only with val_loss available, skipping.\n",
      "  7/157 [>.............................] - ETA: 12s - loss: 0.2662 - acc: 0.8984WARNING:tensorflow:Can save best model only with val_loss available, skipping.\n",
      "  8/157 [>.............................] - ETA: 12s - loss: 0.2629 - acc: 0.8994WARNING:tensorflow:Can save best model only with val_loss available, skipping.\n",
      "  9/157 [>.............................] - ETA: 12s - loss: 0.2608 - acc: 0.9010WARNING:tensorflow:Can save best model only with val_loss available, skipping.\n",
      " 10/157 [>.............................] - ETA: 12s - loss: 0.2626 - acc: 0.9000WARNING:tensorflow:Can save best model only with val_loss available, skipping.\n",
      " 11/157 [=>............................] - ETA: 12s - loss: 0.2552 - acc: 0.9055WARNING:tensorflow:Can save best model only with val_loss available, skipping.\n",
      " 12/157 [=>............................] - ETA: 12s - loss: 0.2511 - acc: 0.9062WARNING:tensorflow:Can save best model only with val_loss available, skipping.\n",
      " 13/157 [=>............................] - ETA: 12s - loss: 0.2675 - acc: 0.8990WARNING:tensorflow:Can save best model only with val_loss available, skipping.\n",
      " 14/157 [=>............................] - ETA: 12s - loss: 0.2605 - acc: 0.9023WARNING:tensorflow:Can save best model only with val_loss available, skipping.\n",
      " 15/157 [=>............................] - ETA: 12s - loss: 0.2621 - acc: 0.9016WARNING:tensorflow:Can save best model only with val_loss available, skipping.\n",
      " 16/157 [==>...........................] - ETA: 12s - loss: 0.2644 - acc: 0.8989WARNING:tensorflow:Can save best model only with val_loss available, skipping.\n",
      " 17/157 [==>...........................] - ETA: 12s - loss: 0.2655 - acc: 0.8971WARNING:tensorflow:Can save best model only with val_loss available, skipping.\n",
      " 18/157 [==>...........................] - ETA: 12s - loss: 0.2653 - acc: 0.8967WARNING:tensorflow:Can save best model only with val_loss available, skipping.\n",
      " 19/157 [==>...........................] - ETA: 12s - loss: 0.2579 - acc: 0.9005WARNING:tensorflow:Can save best model only with val_loss available, skipping.\n",
      " 20/157 [==>...........................] - ETA: 12s - loss: 0.2588 - acc: 0.9000WARNING:tensorflow:Can save best model only with val_loss available, skipping.\n",
      " 21/157 [===>..........................] - ETA: 11s - loss: 0.2593 - acc: 0.8988WARNING:tensorflow:Can save best model only with val_loss available, skipping.\n",
      " 22/157 [===>..........................] - ETA: 11s - loss: 0.2623 - acc: 0.8967WARNING:tensorflow:Can save best model only with val_loss available, skipping.\n",
      " 23/157 [===>..........................] - ETA: 11s - loss: 0.2592 - acc: 0.8988WARNING:tensorflow:Can save best model only with val_loss available, skipping.\n",
      " 24/157 [===>..........................] - ETA: 11s - loss: 0.2613 - acc: 0.8978WARNING:tensorflow:Can save best model only with val_loss available, skipping.\n",
      " 25/157 [===>..........................] - ETA: 11s - loss: 0.2583 - acc: 0.9000WARNING:tensorflow:Can save best model only with val_loss available, skipping.\n",
      " 26/157 [===>..........................] - ETA: 11s - loss: 0.2610 - acc: 0.8990WARNING:tensorflow:Can save best model only with val_loss available, skipping.\n",
      " 27/157 [====>.........................] - ETA: 11s - loss: 0.2618 - acc: 0.8990WARNING:tensorflow:Can save best model only with val_loss available, skipping.\n",
      " 28/157 [====>.........................] - ETA: 11s - loss: 0.2593 - acc: 0.9004WARNING:tensorflow:Can save best model only with val_loss available, skipping.\n",
      " 29/157 [====>.........................] - ETA: 11s - loss: 0.2606 - acc: 0.8998WARNING:tensorflow:Can save best model only with val_loss available, skipping.\n",
      " 30/157 [====>.........................] - ETA: 11s - loss: 0.2621 - acc: 0.8987WARNING:tensorflow:Can save best model only with val_loss available, skipping.\n",
      " 31/157 [====>.........................] - ETA: 10s - loss: 0.2584 - acc: 0.9010WARNING:tensorflow:Can save best model only with val_loss available, skipping.\n",
      " 32/157 [=====>........................] - ETA: 10s - loss: 0.2581 - acc: 0.9009WARNING:tensorflow:Can save best model only with val_loss available, skipping.\n",
      " 33/157 [=====>........................] - ETA: 10s - loss: 0.2557 - acc: 0.9025WARNING:tensorflow:Can save best model only with val_loss available, skipping.\n",
      " 34/157 [=====>........................] - ETA: 10s - loss: 0.2565 - acc: 0.9023WARNING:tensorflow:Can save best model only with val_loss available, skipping.\n",
      " 35/157 [=====>........................] - ETA: 10s - loss: 0.2547 - acc: 0.9036WARNING:tensorflow:Can save best model only with val_loss available, skipping.\n",
      " 36/157 [=====>........................] - ETA: 10s - loss: 0.2517 - acc: 0.9052WARNING:tensorflow:Can save best model only with val_loss available, skipping.\n",
      " 37/157 [======>.......................] - ETA: 10s - loss: 0.2539 - acc: 0.9035WARNING:tensorflow:Can save best model only with val_loss available, skipping.\n",
      " 38/157 [======>.......................] - ETA: 10s - loss: 0.2547 - acc: 0.9032WARNING:tensorflow:Can save best model only with val_loss available, skipping.\n",
      " 39/157 [======>.......................] - ETA: 10s - loss: 0.2546 - acc: 0.9030WARNING:tensorflow:Can save best model only with val_loss available, skipping.\n",
      " 40/157 [======>.......................] - ETA: 10s - loss: 0.2541 - acc: 0.9029WARNING:tensorflow:Can save best model only with val_loss available, skipping.\n",
      " 41/157 [======>.......................] - ETA: 9s - loss: 0.2534 - acc: 0.9030 WARNING:tensorflow:Can save best model only with val_loss available, skipping.\n",
      " 42/157 [=======>......................] - ETA: 9s - loss: 0.2531 - acc: 0.9036WARNING:tensorflow:Can save best model only with val_loss available, skipping.\n",
      " 43/157 [=======>......................] - ETA: 9s - loss: 0.2552 - acc: 0.9028WARNING:tensorflow:Can save best model only with val_loss available, skipping.\n",
      " 44/157 [=======>......................] - ETA: 9s - loss: 0.2545 - acc: 0.9031WARNING:tensorflow:Can save best model only with val_loss available, skipping.\n",
      " 45/157 [=======>......................] - ETA: 9s - loss: 0.2540 - acc: 0.9031WARNING:tensorflow:Can save best model only with val_loss available, skipping.\n",
      " 46/157 [=======>......................] - ETA: 9s - loss: 0.2548 - acc: 0.9029WARNING:tensorflow:Can save best model only with val_loss available, skipping.\n",
      " 47/157 [=======>......................] - ETA: 9s - loss: 0.2550 - acc: 0.9024WARNING:tensorflow:Can save best model only with val_loss available, skipping.\n"
     ]
    },
    {
     "name": "stdout",
     "output_type": "stream",
     "text": [
      " 48/157 [========>.....................] - ETA: 9s - loss: 0.2567 - acc: 0.9012WARNING:tensorflow:Can save best model only with val_loss available, skipping.\n",
      " 49/157 [========>.....................] - ETA: 9s - loss: 0.2578 - acc: 0.9004WARNING:tensorflow:Can save best model only with val_loss available, skipping.\n",
      " 50/157 [========>.....................] - ETA: 9s - loss: 0.2576 - acc: 0.9009WARNING:tensorflow:Can save best model only with val_loss available, skipping.\n",
      " 51/157 [========>.....................] - ETA: 9s - loss: 0.2563 - acc: 0.9015WARNING:tensorflow:Can save best model only with val_loss available, skipping.\n",
      " 52/157 [========>.....................] - ETA: 8s - loss: 0.2553 - acc: 0.9019WARNING:tensorflow:Can save best model only with val_loss available, skipping.\n",
      " 53/157 [=========>....................] - ETA: 8s - loss: 0.2542 - acc: 0.9021WARNING:tensorflow:Can save best model only with val_loss available, skipping.\n",
      " 54/157 [=========>....................] - ETA: 8s - loss: 0.2534 - acc: 0.9026WARNING:tensorflow:Can save best model only with val_loss available, skipping.\n",
      " 55/157 [=========>....................] - ETA: 8s - loss: 0.2521 - acc: 0.9034WARNING:tensorflow:Can save best model only with val_loss available, skipping.\n",
      " 56/157 [=========>....................] - ETA: 8s - loss: 0.2521 - acc: 0.9033WARNING:tensorflow:Can save best model only with val_loss available, skipping.\n",
      " 57/157 [=========>....................] - ETA: 8s - loss: 0.2537 - acc: 0.9024WARNING:tensorflow:Can save best model only with val_loss available, skipping.\n",
      " 58/157 [==========>...................] - ETA: 8s - loss: 0.2542 - acc: 0.9021WARNING:tensorflow:Can save best model only with val_loss available, skipping.\n",
      " 59/157 [==========>...................] - ETA: 8s - loss: 0.2548 - acc: 0.9015WARNING:tensorflow:Can save best model only with val_loss available, skipping.\n",
      " 60/157 [==========>...................] - ETA: 8s - loss: 0.2547 - acc: 0.9018WARNING:tensorflow:Can save best model only with val_loss available, skipping.\n",
      " 61/157 [==========>...................] - ETA: 8s - loss: 0.2554 - acc: 0.9014WARNING:tensorflow:Can save best model only with val_loss available, skipping.\n",
      " 62/157 [==========>...................] - ETA: 8s - loss: 0.2557 - acc: 0.9011WARNING:tensorflow:Can save best model only with val_loss available, skipping.\n",
      " 63/157 [===========>..................] - ETA: 7s - loss: 0.2557 - acc: 0.9008WARNING:tensorflow:Can save best model only with val_loss available, skipping.\n",
      " 64/157 [===========>..................] - ETA: 7s - loss: 0.2564 - acc: 0.9001WARNING:tensorflow:Can save best model only with val_loss available, skipping.\n",
      " 65/157 [===========>..................] - ETA: 7s - loss: 0.2563 - acc: 0.9001WARNING:tensorflow:Can save best model only with val_loss available, skipping.\n",
      " 66/157 [===========>..................] - ETA: 7s - loss: 0.2574 - acc: 0.8996WARNING:tensorflow:Can save best model only with val_loss available, skipping.\n",
      " 67/157 [===========>..................] - ETA: 7s - loss: 0.2584 - acc: 0.8996WARNING:tensorflow:Can save best model only with val_loss available, skipping.\n",
      " 68/157 [===========>..................] - ETA: 7s - loss: 0.2593 - acc: 0.8995WARNING:tensorflow:Can save best model only with val_loss available, skipping.\n",
      " 69/157 [============>.................] - ETA: 7s - loss: 0.2605 - acc: 0.8988WARNING:tensorflow:Can save best model only with val_loss available, skipping.\n",
      " 70/157 [============>.................] - ETA: 7s - loss: 0.2606 - acc: 0.8989WARNING:tensorflow:Can save best model only with val_loss available, skipping.\n",
      " 71/157 [============>.................] - ETA: 7s - loss: 0.2608 - acc: 0.8988WARNING:tensorflow:Can save best model only with val_loss available, skipping.\n",
      " 72/157 [============>.................] - ETA: 7s - loss: 0.2610 - acc: 0.8983WARNING:tensorflow:Can save best model only with val_loss available, skipping.\n",
      " 73/157 [============>.................] - ETA: 7s - loss: 0.2610 - acc: 0.8980WARNING:tensorflow:Can save best model only with val_loss available, skipping.\n",
      " 74/157 [=============>................] - ETA: 7s - loss: 0.2597 - acc: 0.8986WARNING:tensorflow:Can save best model only with val_loss available, skipping.\n",
      " 75/157 [=============>................] - ETA: 6s - loss: 0.2595 - acc: 0.8989WARNING:tensorflow:Can save best model only with val_loss available, skipping.\n",
      " 76/157 [=============>................] - ETA: 6s - loss: 0.2608 - acc: 0.8982WARNING:tensorflow:Can save best model only with val_loss available, skipping.\n",
      " 77/157 [=============>................] - ETA: 6s - loss: 0.2618 - acc: 0.8980WARNING:tensorflow:Can save best model only with val_loss available, skipping.\n",
      " 78/157 [=============>................] - ETA: 6s - loss: 0.2619 - acc: 0.8982WARNING:tensorflow:Can save best model only with val_loss available, skipping.\n",
      " 79/157 [==============>...............] - ETA: 6s - loss: 0.2622 - acc: 0.8982WARNING:tensorflow:Can save best model only with val_loss available, skipping.\n",
      " 80/157 [==============>...............] - ETA: 6s - loss: 0.2633 - acc: 0.8974WARNING:tensorflow:Can save best model only with val_loss available, skipping.\n",
      " 81/157 [==============>...............] - ETA: 6s - loss: 0.2630 - acc: 0.8976WARNING:tensorflow:Can save best model only with val_loss available, skipping.\n",
      " 82/157 [==============>...............] - ETA: 6s - loss: 0.2626 - acc: 0.8978WARNING:tensorflow:Can save best model only with val_loss available, skipping.\n",
      " 83/157 [==============>...............] - ETA: 6s - loss: 0.2617 - acc: 0.8982WARNING:tensorflow:Can save best model only with val_loss available, skipping.\n",
      " 84/157 [===============>..............] - ETA: 6s - loss: 0.2603 - acc: 0.8989WARNING:tensorflow:Can save best model only with val_loss available, skipping.\n",
      " 85/157 [===============>..............] - ETA: 6s - loss: 0.2595 - acc: 0.8992WARNING:tensorflow:Can save best model only with val_loss available, skipping.\n",
      " 86/157 [===============>..............] - ETA: 5s - loss: 0.2587 - acc: 0.8997WARNING:tensorflow:Can save best model only with val_loss available, skipping.\n",
      " 87/157 [===============>..............] - ETA: 5s - loss: 0.2585 - acc: 0.8997WARNING:tensorflow:Can save best model only with val_loss available, skipping.\n",
      " 88/157 [===============>..............] - ETA: 5s - loss: 0.2588 - acc: 0.8994WARNING:tensorflow:Can save best model only with val_loss available, skipping.\n",
      " 89/157 [================>.............] - ETA: 5s - loss: 0.2586 - acc: 0.8997WARNING:tensorflow:Can save best model only with val_loss available, skipping.\n",
      " 90/157 [================>.............] - ETA: 5s - loss: 0.2591 - acc: 0.8994WARNING:tensorflow:Can save best model only with val_loss available, skipping.\n",
      " 91/157 [================>.............] - ETA: 5s - loss: 0.2603 - acc: 0.8984WARNING:tensorflow:Can save best model only with val_loss available, skipping.\n",
      " 92/157 [================>.............] - ETA: 5s - loss: 0.2611 - acc: 0.8978WARNING:tensorflow:Can save best model only with val_loss available, skipping.\n",
      " 93/157 [================>.............] - ETA: 5s - loss: 0.2616 - acc: 0.8973WARNING:tensorflow:Can save best model only with val_loss available, skipping.\n",
      " 94/157 [================>.............] - ETA: 5s - loss: 0.2617 - acc: 0.8970WARNING:tensorflow:Can save best model only with val_loss available, skipping.\n",
      " 95/157 [=================>............] - ETA: 5s - loss: 0.2610 - acc: 0.8975WARNING:tensorflow:Can save best model only with val_loss available, skipping.\n",
      " 96/157 [=================>............] - ETA: 5s - loss: 0.2612 - acc: 0.8975WARNING:tensorflow:Can save best model only with val_loss available, skipping.\n",
      " 97/157 [=================>............] - ETA: 5s - loss: 0.2609 - acc: 0.8977WARNING:tensorflow:Can save best model only with val_loss available, skipping.\n",
      " 98/157 [=================>............] - ETA: 4s - loss: 0.2613 - acc: 0.8971WARNING:tensorflow:Can save best model only with val_loss available, skipping.\n",
      " 99/157 [=================>............] - ETA: 4s - loss: 0.2613 - acc: 0.8973WARNING:tensorflow:Can save best model only with val_loss available, skipping.\n"
     ]
    },
    {
     "name": "stdout",
     "output_type": "stream",
     "text": [
      "100/157 [==================>...........] - ETA: 4s - loss: 0.2607 - acc: 0.8974WARNING:tensorflow:Can save best model only with val_loss available, skipping.\n",
      "101/157 [==================>...........] - ETA: 4s - loss: 0.2606 - acc: 0.8975WARNING:tensorflow:Can save best model only with val_loss available, skipping.\n",
      "102/157 [==================>...........] - ETA: 4s - loss: 0.2606 - acc: 0.8976WARNING:tensorflow:Can save best model only with val_loss available, skipping.\n",
      "103/157 [==================>...........] - ETA: 4s - loss: 0.2603 - acc: 0.8976WARNING:tensorflow:Can save best model only with val_loss available, skipping.\n",
      "104/157 [==================>...........] - ETA: 4s - loss: 0.2603 - acc: 0.8978WARNING:tensorflow:Can save best model only with val_loss available, skipping.\n",
      "105/157 [===================>..........] - ETA: 4s - loss: 0.2605 - acc: 0.8975WARNING:tensorflow:Can save best model only with val_loss available, skipping.\n",
      "106/157 [===================>..........] - ETA: 4s - loss: 0.2598 - acc: 0.8980WARNING:tensorflow:Can save best model only with val_loss available, skipping.\n",
      "107/157 [===================>..........] - ETA: 4s - loss: 0.2596 - acc: 0.8981WARNING:tensorflow:Can save best model only with val_loss available, skipping.\n",
      "108/157 [===================>..........] - ETA: 4s - loss: 0.2597 - acc: 0.8981WARNING:tensorflow:Can save best model only with val_loss available, skipping.\n",
      "109/157 [===================>..........] - ETA: 4s - loss: 0.2590 - acc: 0.8984WARNING:tensorflow:Can save best model only with val_loss available, skipping.\n",
      "110/157 [====================>.........] - ETA: 3s - loss: 0.2593 - acc: 0.8984WARNING:tensorflow:Can save best model only with val_loss available, skipping.\n",
      "111/157 [====================>.........] - ETA: 3s - loss: 0.2589 - acc: 0.8986WARNING:tensorflow:Can save best model only with val_loss available, skipping.\n",
      "112/157 [====================>.........] - ETA: 3s - loss: 0.2588 - acc: 0.8987WARNING:tensorflow:Can save best model only with val_loss available, skipping.\n",
      "113/157 [====================>.........] - ETA: 3s - loss: 0.2582 - acc: 0.8991WARNING:tensorflow:Can save best model only with val_loss available, skipping.\n",
      "114/157 [====================>.........] - ETA: 3s - loss: 0.2583 - acc: 0.8991WARNING:tensorflow:Can save best model only with val_loss available, skipping.\n",
      "115/157 [====================>.........] - ETA: 3s - loss: 0.2577 - acc: 0.8994WARNING:tensorflow:Can save best model only with val_loss available, skipping.\n",
      "116/157 [=====================>........] - ETA: 3s - loss: 0.2574 - acc: 0.8995WARNING:tensorflow:Can save best model only with val_loss available, skipping.\n",
      "117/157 [=====================>........] - ETA: 3s - loss: 0.2571 - acc: 0.8997WARNING:tensorflow:Can save best model only with val_loss available, skipping.\n",
      "118/157 [=====================>........] - ETA: 3s - loss: 0.2565 - acc: 0.9000WARNING:tensorflow:Can save best model only with val_loss available, skipping.\n",
      "119/157 [=====================>........] - ETA: 3s - loss: 0.2577 - acc: 0.8994WARNING:tensorflow:Can save best model only with val_loss available, skipping.\n",
      "120/157 [=====================>........] - ETA: 3s - loss: 0.2582 - acc: 0.8990WARNING:tensorflow:Can save best model only with val_loss available, skipping.\n",
      "121/157 [======================>.......] - ETA: 2s - loss: 0.2585 - acc: 0.8987WARNING:tensorflow:Can save best model only with val_loss available, skipping.\n",
      "122/157 [======================>.......] - ETA: 2s - loss: 0.2586 - acc: 0.8986WARNING:tensorflow:Can save best model only with val_loss available, skipping.\n",
      "123/157 [======================>.......] - ETA: 2s - loss: 0.2588 - acc: 0.8985WARNING:tensorflow:Can save best model only with val_loss available, skipping.\n",
      "124/157 [======================>.......] - ETA: 2s - loss: 0.2591 - acc: 0.8984WARNING:tensorflow:Can save best model only with val_loss available, skipping.\n",
      "125/157 [======================>.......] - ETA: 2s - loss: 0.2587 - acc: 0.8987WARNING:tensorflow:Can save best model only with val_loss available, skipping.\n",
      "126/157 [=======================>......] - ETA: 2s - loss: 0.2581 - acc: 0.8991WARNING:tensorflow:Can save best model only with val_loss available, skipping.\n",
      "127/157 [=======================>......] - ETA: 2s - loss: 0.2576 - acc: 0.8992WARNING:tensorflow:Can save best model only with val_loss available, skipping.\n",
      "128/157 [=======================>......] - ETA: 2s - loss: 0.2573 - acc: 0.8995WARNING:tensorflow:Can save best model only with val_loss available, skipping.\n",
      "129/157 [=======================>......] - ETA: 2s - loss: 0.2577 - acc: 0.8992WARNING:tensorflow:Can save best model only with val_loss available, skipping.\n",
      "130/157 [=======================>......] - ETA: 2s - loss: 0.2580 - acc: 0.8991WARNING:tensorflow:Can save best model only with val_loss available, skipping.\n",
      "131/157 [========================>.....] - ETA: 2s - loss: 0.2587 - acc: 0.8986WARNING:tensorflow:Can save best model only with val_loss available, skipping.\n",
      "132/157 [========================>.....] - ETA: 2s - loss: 0.2583 - acc: 0.8987WARNING:tensorflow:Can save best model only with val_loss available, skipping.\n",
      "133/157 [========================>.....] - ETA: 1s - loss: 0.2577 - acc: 0.8990WARNING:tensorflow:Can save best model only with val_loss available, skipping.\n",
      "134/157 [========================>.....] - ETA: 1s - loss: 0.2576 - acc: 0.8991WARNING:tensorflow:Can save best model only with val_loss available, skipping.\n",
      "135/157 [========================>.....] - ETA: 1s - loss: 0.2573 - acc: 0.8992WARNING:tensorflow:Can save best model only with val_loss available, skipping.\n",
      "136/157 [========================>.....] - ETA: 1s - loss: 0.2571 - acc: 0.8992WARNING:tensorflow:Can save best model only with val_loss available, skipping.\n",
      "137/157 [=========================>....] - ETA: 1s - loss: 0.2578 - acc: 0.8987WARNING:tensorflow:Can save best model only with val_loss available, skipping.\n",
      "138/157 [=========================>....] - ETA: 1s - loss: 0.2586 - acc: 0.8982WARNING:tensorflow:Can save best model only with val_loss available, skipping.\n",
      "139/157 [=========================>....] - ETA: 1s - loss: 0.2589 - acc: 0.8980WARNING:tensorflow:Can save best model only with val_loss available, skipping.\n",
      "140/157 [=========================>....] - ETA: 1s - loss: 0.2589 - acc: 0.8979WARNING:tensorflow:Can save best model only with val_loss available, skipping.\n",
      "141/157 [=========================>....] - ETA: 1s - loss: 0.2591 - acc: 0.8978WARNING:tensorflow:Can save best model only with val_loss available, skipping.\n",
      "142/157 [==========================>...] - ETA: 1s - loss: 0.2592 - acc: 0.8976WARNING:tensorflow:Can save best model only with val_loss available, skipping.\n",
      "143/157 [==========================>...] - ETA: 1s - loss: 0.2594 - acc: 0.8974WARNING:tensorflow:Can save best model only with val_loss available, skipping.\n",
      "144/157 [==========================>...] - ETA: 1s - loss: 0.2595 - acc: 0.8974WARNING:tensorflow:Can save best model only with val_loss available, skipping.\n",
      "145/157 [==========================>...] - ETA: 0s - loss: 0.2596 - acc: 0.8974WARNING:tensorflow:Can save best model only with val_loss available, skipping.\n",
      "146/157 [==========================>...] - ETA: 0s - loss: 0.2599 - acc: 0.8974WARNING:tensorflow:Can save best model only with val_loss available, skipping.\n",
      "147/157 [===========================>..] - ETA: 0s - loss: 0.2595 - acc: 0.8976WARNING:tensorflow:Can save best model only with val_loss available, skipping.\n",
      "148/157 [===========================>..] - ETA: 0s - loss: 0.2592 - acc: 0.8978WARNING:tensorflow:Can save best model only with val_loss available, skipping.\n",
      "149/157 [===========================>..] - ETA: 0s - loss: 0.2589 - acc: 0.8979WARNING:tensorflow:Can save best model only with val_loss available, skipping.\n",
      "150/157 [===========================>..] - ETA: 0s - loss: 0.2589 - acc: 0.8980WARNING:tensorflow:Can save best model only with val_loss available, skipping.\n",
      "151/157 [===========================>..] - ETA: 0s - loss: 0.2585 - acc: 0.8981WARNING:tensorflow:Can save best model only with val_loss available, skipping.\n"
     ]
    },
    {
     "name": "stdout",
     "output_type": "stream",
     "text": [
      "152/157 [============================>.] - ETA: 0s - loss: 0.2585 - acc: 0.8983WARNING:tensorflow:Can save best model only with val_loss available, skipping.\n",
      "153/157 [============================>.] - ETA: 0s - loss: 0.2588 - acc: 0.8980WARNING:tensorflow:Can save best model only with val_loss available, skipping.\n",
      "154/157 [============================>.] - ETA: 0s - loss: 0.2589 - acc: 0.8980WARNING:tensorflow:Can save best model only with val_loss available, skipping.\n",
      "155/157 [============================>.] - ETA: 0s - loss: 0.2586 - acc: 0.8982WARNING:tensorflow:Can save best model only with val_loss available, skipping.\n",
      "156/157 [============================>.] - ETA: 0s - loss: 0.2582 - acc: 0.8984WARNING:tensorflow:Can save best model only with val_loss available, skipping.\n",
      "157/157 [==============================] - ETA: 0s - loss: 0.2584 - acc: 0.8983WARNING:tensorflow:Can save best model only with val_loss available, skipping.\n",
      "157/157 [==============================] - 14s 90ms/step - loss: 0.2584 - acc: 0.8983 - val_loss: 0.4115 - val_acc: 0.8054\n"
     ]
    }
   ],
   "source": [
    "hist = model.fit(X_train, y_train,\n",
    "                 validation_split=0.2,\n",
    "                 epochs=10,\n",
    "                 batch_size=128,\n",
    "                 shuffle=True,\n",
    "                 verbose=1,\n",
    "                 callbacks=[checkpointer, earlystopper]\n",
    "                )"
   ]
  },
  {
   "cell_type": "code",
   "execution_count": 16,
   "id": "c92ca863",
   "metadata": {},
   "outputs": [
    {
     "data": {
      "image/png": "[encoded data removed]",
      "text/plain": [
       "<Figure size 432x288 with 1 Axes>"
      ]
     },
     "metadata": {
      "needs_background": "light"
     },
     "output_type": "display_data"
    },
    {
     "data": {
      "image/png": "[encoded data removed]",
      "text/plain": [
       "<Figure size 432x288 with 1 Axes>"
      ]
     },
     "metadata": {
      "needs_background": "light"
     },
     "output_type": "display_data"
    }
   ],
   "source": [
    "acc = hist.history['acc']\n",
    "val_acc = hist.history['val_acc']\n",
    "\n",
    "loss = hist.history['loss']\n",
    "val_loss = hist.history['val_loss']\n",
    "\n",
    "epochs = range(1,len(loss)+1)\n",
    "plt.title('Loss vs Epochs')\n",
    "plt.plot(epochs, loss, label='Training loss')\n",
    "plt.plot(epochs, val_loss, label='Validation loss')\n",
    "plt.legend()\n",
    "plt.show()\n",
    "\n",
    "plt.title('Accuracy vs Epochs')\n",
    "plt.plot(epochs, acc, label='Training Accuracy')\n",
    "plt.plot(epochs, val_acc, label='Validation Accuracy')\n",
    "plt.legend()\n",
    "plt.show()"
   ]
  },
  {
   "cell_type": "code",
   "execution_count": 17,
   "id": "255f3433",
   "metadata": {},
   "outputs": [],
   "source": [
    "model.save('model.h5')"
   ]
  },
  {
   "cell_type": "code",
   "execution_count": 18,
   "id": "57997df1",
   "metadata": {},
   "outputs": [
    {
     "name": "stdout",
     "output_type": "stream",
     "text": [
      "782/782 [==============================] - 11s 14ms/step - loss: 0.4084 - acc: 0.8082\n"
     ]
    },
    {
     "data": {
      "text/plain": [
       "[0.40842562913894653, 0.8082000017166138]"
      ]
     },
     "execution_count": 18,
     "metadata": {},
     "output_type": "execute_result"
    }
   ],
   "source": [
    "model.evaluate(X_test, y_test)"
   ]
  },
  {
   "cell_type": "code",
   "execution_count": 19,
   "id": "f2c3c468",
   "metadata": {},
   "outputs": [
    {
     "name": "stdout",
     "output_type": "stream",
     "text": [
      "782/782 [==============================] - 11s 14ms/step - loss: 0.2804 - acc: 0.8841\n"
     ]
    },
    {
     "data": {
      "text/plain": [
       "[0.2804323732852936, 0.8840799927711487]"
      ]
     },
     "execution_count": 19,
     "metadata": {},
     "output_type": "execute_result"
    }
   ],
   "source": [
    "model.evaluate(X_train, y_train)"
   ]
  },
  {
   "cell_type": "code",
   "execution_count": null,
   "id": "b8e68d07",
   "metadata": {},
   "outputs": [],
   "source": []
  }
 ],
 "metadata": {
  "kernelspec": {
   "display_name": "Python 3",
   "language": "python",
   "name": "python3"
  },
  "language_info": {
   "codemirror_mode": {
    "name": "ipython",
    "version": 3
   },
   "file_extension": ".py",
   "mimetype": "text/x-python",
   "name": "python",
   "nbconvert_exporter": "python",
   "pygments_lexer": "ipython3",
   "version": "3.9.1"
  }
 },
 "nbformat": 4,
 "nbformat_minor": 5
}
